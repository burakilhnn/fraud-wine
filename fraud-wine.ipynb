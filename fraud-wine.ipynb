{
 "cells": [
  {
   "cell_type": "markdown",
   "id": "d3621073",
   "metadata": {},
   "source": [
    "## Data\n",
    "\n",
    "Data Source: P. Cortez, A. Cerdeira, F. Almeida, T. Matos and J. Reis. Modeling wine preferences by data mining from physicochemical properties. In Decision Support Systems, Elsevier, 47(4):547-553, 2009.\n"
   ]
  },
  {
   "cell_type": "markdown",
   "id": "1854d323",
   "metadata": {},
   "source": [
    "### Importing Libraries"
   ]
  },
  {
   "cell_type": "code",
   "execution_count": 1,
   "id": "3175941d",
   "metadata": {},
   "outputs": [],
   "source": [
    "import numpy as np\n",
    "import pandas as pd\n",
    "import seaborn as sns\n",
    "import matplotlib.pyplot as plt"
   ]
  },
  {
   "cell_type": "code",
   "execution_count": 2,
   "id": "12b60a80",
   "metadata": {},
   "outputs": [],
   "source": [
    "df = pd.read_csv(\"wine_fraud.csv\")"
   ]
  },
  {
   "cell_type": "code",
   "execution_count": 3,
   "id": "fcf2fd77",
   "metadata": {
    "scrolled": true
   },
   "outputs": [
    {
     "data": {
      "text/html": [
       "<div>\n",
       "<style scoped>\n",
       "    .dataframe tbody tr th:only-of-type {\n",
       "        vertical-align: middle;\n",
       "    }\n",
       "\n",
       "    .dataframe tbody tr th {\n",
       "        vertical-align: top;\n",
       "    }\n",
       "\n",
       "    .dataframe thead th {\n",
       "        text-align: right;\n",
       "    }\n",
       "</style>\n",
       "<table border=\"1\" class=\"dataframe\">\n",
       "  <thead>\n",
       "    <tr style=\"text-align: right;\">\n",
       "      <th></th>\n",
       "      <th>fixed acidity</th>\n",
       "      <th>volatile acidity</th>\n",
       "      <th>citric acid</th>\n",
       "      <th>residual sugar</th>\n",
       "      <th>chlorides</th>\n",
       "      <th>free sulfur dioxide</th>\n",
       "      <th>total sulfur dioxide</th>\n",
       "      <th>density</th>\n",
       "      <th>pH</th>\n",
       "      <th>sulphates</th>\n",
       "      <th>alcohol</th>\n",
       "      <th>quality</th>\n",
       "      <th>type</th>\n",
       "    </tr>\n",
       "  </thead>\n",
       "  <tbody>\n",
       "    <tr>\n",
       "      <th>0</th>\n",
       "      <td>7.4</td>\n",
       "      <td>0.70</td>\n",
       "      <td>0.00</td>\n",
       "      <td>1.9</td>\n",
       "      <td>0.076</td>\n",
       "      <td>11.0</td>\n",
       "      <td>34.0</td>\n",
       "      <td>0.9978</td>\n",
       "      <td>3.51</td>\n",
       "      <td>0.56</td>\n",
       "      <td>9.4</td>\n",
       "      <td>Legit</td>\n",
       "      <td>red</td>\n",
       "    </tr>\n",
       "    <tr>\n",
       "      <th>1</th>\n",
       "      <td>7.8</td>\n",
       "      <td>0.88</td>\n",
       "      <td>0.00</td>\n",
       "      <td>2.6</td>\n",
       "      <td>0.098</td>\n",
       "      <td>25.0</td>\n",
       "      <td>67.0</td>\n",
       "      <td>0.9968</td>\n",
       "      <td>3.20</td>\n",
       "      <td>0.68</td>\n",
       "      <td>9.8</td>\n",
       "      <td>Legit</td>\n",
       "      <td>red</td>\n",
       "    </tr>\n",
       "    <tr>\n",
       "      <th>2</th>\n",
       "      <td>7.8</td>\n",
       "      <td>0.76</td>\n",
       "      <td>0.04</td>\n",
       "      <td>2.3</td>\n",
       "      <td>0.092</td>\n",
       "      <td>15.0</td>\n",
       "      <td>54.0</td>\n",
       "      <td>0.9970</td>\n",
       "      <td>3.26</td>\n",
       "      <td>0.65</td>\n",
       "      <td>9.8</td>\n",
       "      <td>Legit</td>\n",
       "      <td>red</td>\n",
       "    </tr>\n",
       "    <tr>\n",
       "      <th>3</th>\n",
       "      <td>11.2</td>\n",
       "      <td>0.28</td>\n",
       "      <td>0.56</td>\n",
       "      <td>1.9</td>\n",
       "      <td>0.075</td>\n",
       "      <td>17.0</td>\n",
       "      <td>60.0</td>\n",
       "      <td>0.9980</td>\n",
       "      <td>3.16</td>\n",
       "      <td>0.58</td>\n",
       "      <td>9.8</td>\n",
       "      <td>Legit</td>\n",
       "      <td>red</td>\n",
       "    </tr>\n",
       "    <tr>\n",
       "      <th>4</th>\n",
       "      <td>7.4</td>\n",
       "      <td>0.70</td>\n",
       "      <td>0.00</td>\n",
       "      <td>1.9</td>\n",
       "      <td>0.076</td>\n",
       "      <td>11.0</td>\n",
       "      <td>34.0</td>\n",
       "      <td>0.9978</td>\n",
       "      <td>3.51</td>\n",
       "      <td>0.56</td>\n",
       "      <td>9.4</td>\n",
       "      <td>Legit</td>\n",
       "      <td>red</td>\n",
       "    </tr>\n",
       "    <tr>\n",
       "      <th>5</th>\n",
       "      <td>7.4</td>\n",
       "      <td>0.66</td>\n",
       "      <td>0.00</td>\n",
       "      <td>1.8</td>\n",
       "      <td>0.075</td>\n",
       "      <td>13.0</td>\n",
       "      <td>40.0</td>\n",
       "      <td>0.9978</td>\n",
       "      <td>3.51</td>\n",
       "      <td>0.56</td>\n",
       "      <td>9.4</td>\n",
       "      <td>Legit</td>\n",
       "      <td>red</td>\n",
       "    </tr>\n",
       "    <tr>\n",
       "      <th>6</th>\n",
       "      <td>7.9</td>\n",
       "      <td>0.60</td>\n",
       "      <td>0.06</td>\n",
       "      <td>1.6</td>\n",
       "      <td>0.069</td>\n",
       "      <td>15.0</td>\n",
       "      <td>59.0</td>\n",
       "      <td>0.9964</td>\n",
       "      <td>3.30</td>\n",
       "      <td>0.46</td>\n",
       "      <td>9.4</td>\n",
       "      <td>Legit</td>\n",
       "      <td>red</td>\n",
       "    </tr>\n",
       "    <tr>\n",
       "      <th>7</th>\n",
       "      <td>7.3</td>\n",
       "      <td>0.65</td>\n",
       "      <td>0.00</td>\n",
       "      <td>1.2</td>\n",
       "      <td>0.065</td>\n",
       "      <td>15.0</td>\n",
       "      <td>21.0</td>\n",
       "      <td>0.9946</td>\n",
       "      <td>3.39</td>\n",
       "      <td>0.47</td>\n",
       "      <td>10.0</td>\n",
       "      <td>Legit</td>\n",
       "      <td>red</td>\n",
       "    </tr>\n",
       "    <tr>\n",
       "      <th>8</th>\n",
       "      <td>7.8</td>\n",
       "      <td>0.58</td>\n",
       "      <td>0.02</td>\n",
       "      <td>2.0</td>\n",
       "      <td>0.073</td>\n",
       "      <td>9.0</td>\n",
       "      <td>18.0</td>\n",
       "      <td>0.9968</td>\n",
       "      <td>3.36</td>\n",
       "      <td>0.57</td>\n",
       "      <td>9.5</td>\n",
       "      <td>Legit</td>\n",
       "      <td>red</td>\n",
       "    </tr>\n",
       "    <tr>\n",
       "      <th>9</th>\n",
       "      <td>7.5</td>\n",
       "      <td>0.50</td>\n",
       "      <td>0.36</td>\n",
       "      <td>6.1</td>\n",
       "      <td>0.071</td>\n",
       "      <td>17.0</td>\n",
       "      <td>102.0</td>\n",
       "      <td>0.9978</td>\n",
       "      <td>3.35</td>\n",
       "      <td>0.80</td>\n",
       "      <td>10.5</td>\n",
       "      <td>Legit</td>\n",
       "      <td>red</td>\n",
       "    </tr>\n",
       "  </tbody>\n",
       "</table>\n",
       "</div>"
      ],
      "text/plain": [
       "   fixed acidity  volatile acidity  citric acid  residual sugar  chlorides  \\\n",
       "0            7.4              0.70         0.00             1.9      0.076   \n",
       "1            7.8              0.88         0.00             2.6      0.098   \n",
       "2            7.8              0.76         0.04             2.3      0.092   \n",
       "3           11.2              0.28         0.56             1.9      0.075   \n",
       "4            7.4              0.70         0.00             1.9      0.076   \n",
       "5            7.4              0.66         0.00             1.8      0.075   \n",
       "6            7.9              0.60         0.06             1.6      0.069   \n",
       "7            7.3              0.65         0.00             1.2      0.065   \n",
       "8            7.8              0.58         0.02             2.0      0.073   \n",
       "9            7.5              0.50         0.36             6.1      0.071   \n",
       "\n",
       "   free sulfur dioxide  total sulfur dioxide  density    pH  sulphates  \\\n",
       "0                 11.0                  34.0   0.9978  3.51       0.56   \n",
       "1                 25.0                  67.0   0.9968  3.20       0.68   \n",
       "2                 15.0                  54.0   0.9970  3.26       0.65   \n",
       "3                 17.0                  60.0   0.9980  3.16       0.58   \n",
       "4                 11.0                  34.0   0.9978  3.51       0.56   \n",
       "5                 13.0                  40.0   0.9978  3.51       0.56   \n",
       "6                 15.0                  59.0   0.9964  3.30       0.46   \n",
       "7                 15.0                  21.0   0.9946  3.39       0.47   \n",
       "8                  9.0                  18.0   0.9968  3.36       0.57   \n",
       "9                 17.0                 102.0   0.9978  3.35       0.80   \n",
       "\n",
       "   alcohol quality type  \n",
       "0      9.4   Legit  red  \n",
       "1      9.8   Legit  red  \n",
       "2      9.8   Legit  red  \n",
       "3      9.8   Legit  red  \n",
       "4      9.4   Legit  red  \n",
       "5      9.4   Legit  red  \n",
       "6      9.4   Legit  red  \n",
       "7     10.0   Legit  red  \n",
       "8      9.5   Legit  red  \n",
       "9     10.5   Legit  red  "
      ]
     },
     "execution_count": 3,
     "metadata": {},
     "output_type": "execute_result"
    }
   ],
   "source": [
    "df.head(10)"
   ]
  },
  {
   "cell_type": "code",
   "execution_count": 29,
   "id": "57d74966",
   "metadata": {
    "scrolled": true
   },
   "outputs": [
    {
     "name": "stdout",
     "output_type": "stream",
     "text": [
      "<class 'pandas.core.frame.DataFrame'>\n",
      "RangeIndex: 6497 entries, 0 to 6496\n",
      "Data columns (total 13 columns):\n",
      " #   Column                Non-Null Count  Dtype  \n",
      "---  ------                --------------  -----  \n",
      " 0   fixed acidity         6497 non-null   float64\n",
      " 1   volatile acidity      6497 non-null   float64\n",
      " 2   citric acid           6497 non-null   float64\n",
      " 3   residual sugar        6497 non-null   float64\n",
      " 4   chlorides             6497 non-null   float64\n",
      " 5   free sulfur dioxide   6497 non-null   float64\n",
      " 6   total sulfur dioxide  6497 non-null   float64\n",
      " 7   density               6497 non-null   float64\n",
      " 8   pH                    6497 non-null   float64\n",
      " 9   sulphates             6497 non-null   float64\n",
      " 10  alcohol               6497 non-null   float64\n",
      " 11  quality               6497 non-null   object \n",
      " 12  type                  6497 non-null   uint8  \n",
      "dtypes: float64(11), object(1), uint8(1)\n",
      "memory usage: 615.6+ KB\n"
     ]
    }
   ],
   "source": [
    "df.info()"
   ]
  },
  {
   "cell_type": "code",
   "execution_count": 30,
   "id": "682efc70",
   "metadata": {},
   "outputs": [
    {
     "data": {
      "text/html": [
       "<div>\n",
       "<style scoped>\n",
       "    .dataframe tbody tr th:only-of-type {\n",
       "        vertical-align: middle;\n",
       "    }\n",
       "\n",
       "    .dataframe tbody tr th {\n",
       "        vertical-align: top;\n",
       "    }\n",
       "\n",
       "    .dataframe thead th {\n",
       "        text-align: right;\n",
       "    }\n",
       "</style>\n",
       "<table border=\"1\" class=\"dataframe\">\n",
       "  <thead>\n",
       "    <tr style=\"text-align: right;\">\n",
       "      <th></th>\n",
       "      <th>count</th>\n",
       "      <th>mean</th>\n",
       "      <th>std</th>\n",
       "      <th>min</th>\n",
       "      <th>25%</th>\n",
       "      <th>50%</th>\n",
       "      <th>75%</th>\n",
       "      <th>max</th>\n",
       "    </tr>\n",
       "  </thead>\n",
       "  <tbody>\n",
       "    <tr>\n",
       "      <th>fixed acidity</th>\n",
       "      <td>6497.0</td>\n",
       "      <td>7.215307</td>\n",
       "      <td>1.296434</td>\n",
       "      <td>3.80000</td>\n",
       "      <td>6.40000</td>\n",
       "      <td>7.00000</td>\n",
       "      <td>7.70000</td>\n",
       "      <td>15.90000</td>\n",
       "    </tr>\n",
       "    <tr>\n",
       "      <th>volatile acidity</th>\n",
       "      <td>6497.0</td>\n",
       "      <td>0.339666</td>\n",
       "      <td>0.164636</td>\n",
       "      <td>0.08000</td>\n",
       "      <td>0.23000</td>\n",
       "      <td>0.29000</td>\n",
       "      <td>0.40000</td>\n",
       "      <td>1.58000</td>\n",
       "    </tr>\n",
       "    <tr>\n",
       "      <th>citric acid</th>\n",
       "      <td>6497.0</td>\n",
       "      <td>0.318633</td>\n",
       "      <td>0.145318</td>\n",
       "      <td>0.00000</td>\n",
       "      <td>0.25000</td>\n",
       "      <td>0.31000</td>\n",
       "      <td>0.39000</td>\n",
       "      <td>1.66000</td>\n",
       "    </tr>\n",
       "    <tr>\n",
       "      <th>residual sugar</th>\n",
       "      <td>6497.0</td>\n",
       "      <td>5.443235</td>\n",
       "      <td>4.757804</td>\n",
       "      <td>0.60000</td>\n",
       "      <td>1.80000</td>\n",
       "      <td>3.00000</td>\n",
       "      <td>8.10000</td>\n",
       "      <td>65.80000</td>\n",
       "    </tr>\n",
       "    <tr>\n",
       "      <th>chlorides</th>\n",
       "      <td>6497.0</td>\n",
       "      <td>0.056034</td>\n",
       "      <td>0.035034</td>\n",
       "      <td>0.00900</td>\n",
       "      <td>0.03800</td>\n",
       "      <td>0.04700</td>\n",
       "      <td>0.06500</td>\n",
       "      <td>0.61100</td>\n",
       "    </tr>\n",
       "    <tr>\n",
       "      <th>free sulfur dioxide</th>\n",
       "      <td>6497.0</td>\n",
       "      <td>30.525319</td>\n",
       "      <td>17.749400</td>\n",
       "      <td>1.00000</td>\n",
       "      <td>17.00000</td>\n",
       "      <td>29.00000</td>\n",
       "      <td>41.00000</td>\n",
       "      <td>289.00000</td>\n",
       "    </tr>\n",
       "    <tr>\n",
       "      <th>total sulfur dioxide</th>\n",
       "      <td>6497.0</td>\n",
       "      <td>115.744574</td>\n",
       "      <td>56.521855</td>\n",
       "      <td>6.00000</td>\n",
       "      <td>77.00000</td>\n",
       "      <td>118.00000</td>\n",
       "      <td>156.00000</td>\n",
       "      <td>440.00000</td>\n",
       "    </tr>\n",
       "    <tr>\n",
       "      <th>density</th>\n",
       "      <td>6497.0</td>\n",
       "      <td>0.994697</td>\n",
       "      <td>0.002999</td>\n",
       "      <td>0.98711</td>\n",
       "      <td>0.99234</td>\n",
       "      <td>0.99489</td>\n",
       "      <td>0.99699</td>\n",
       "      <td>1.03898</td>\n",
       "    </tr>\n",
       "    <tr>\n",
       "      <th>pH</th>\n",
       "      <td>6497.0</td>\n",
       "      <td>3.218501</td>\n",
       "      <td>0.160787</td>\n",
       "      <td>2.72000</td>\n",
       "      <td>3.11000</td>\n",
       "      <td>3.21000</td>\n",
       "      <td>3.32000</td>\n",
       "      <td>4.01000</td>\n",
       "    </tr>\n",
       "    <tr>\n",
       "      <th>sulphates</th>\n",
       "      <td>6497.0</td>\n",
       "      <td>0.531268</td>\n",
       "      <td>0.148806</td>\n",
       "      <td>0.22000</td>\n",
       "      <td>0.43000</td>\n",
       "      <td>0.51000</td>\n",
       "      <td>0.60000</td>\n",
       "      <td>2.00000</td>\n",
       "    </tr>\n",
       "    <tr>\n",
       "      <th>alcohol</th>\n",
       "      <td>6497.0</td>\n",
       "      <td>10.491801</td>\n",
       "      <td>1.192712</td>\n",
       "      <td>8.00000</td>\n",
       "      <td>9.50000</td>\n",
       "      <td>10.30000</td>\n",
       "      <td>11.30000</td>\n",
       "      <td>14.90000</td>\n",
       "    </tr>\n",
       "    <tr>\n",
       "      <th>type</th>\n",
       "      <td>6497.0</td>\n",
       "      <td>0.753886</td>\n",
       "      <td>0.430779</td>\n",
       "      <td>0.00000</td>\n",
       "      <td>1.00000</td>\n",
       "      <td>1.00000</td>\n",
       "      <td>1.00000</td>\n",
       "      <td>1.00000</td>\n",
       "    </tr>\n",
       "  </tbody>\n",
       "</table>\n",
       "</div>"
      ],
      "text/plain": [
       "                       count        mean        std      min       25%  \\\n",
       "fixed acidity         6497.0    7.215307   1.296434  3.80000   6.40000   \n",
       "volatile acidity      6497.0    0.339666   0.164636  0.08000   0.23000   \n",
       "citric acid           6497.0    0.318633   0.145318  0.00000   0.25000   \n",
       "residual sugar        6497.0    5.443235   4.757804  0.60000   1.80000   \n",
       "chlorides             6497.0    0.056034   0.035034  0.00900   0.03800   \n",
       "free sulfur dioxide   6497.0   30.525319  17.749400  1.00000  17.00000   \n",
       "total sulfur dioxide  6497.0  115.744574  56.521855  6.00000  77.00000   \n",
       "density               6497.0    0.994697   0.002999  0.98711   0.99234   \n",
       "pH                    6497.0    3.218501   0.160787  2.72000   3.11000   \n",
       "sulphates             6497.0    0.531268   0.148806  0.22000   0.43000   \n",
       "alcohol               6497.0   10.491801   1.192712  8.00000   9.50000   \n",
       "type                  6497.0    0.753886   0.430779  0.00000   1.00000   \n",
       "\n",
       "                            50%        75%        max  \n",
       "fixed acidity           7.00000    7.70000   15.90000  \n",
       "volatile acidity        0.29000    0.40000    1.58000  \n",
       "citric acid             0.31000    0.39000    1.66000  \n",
       "residual sugar          3.00000    8.10000   65.80000  \n",
       "chlorides               0.04700    0.06500    0.61100  \n",
       "free sulfur dioxide    29.00000   41.00000  289.00000  \n",
       "total sulfur dioxide  118.00000  156.00000  440.00000  \n",
       "density                 0.99489    0.99699    1.03898  \n",
       "pH                      3.21000    3.32000    4.01000  \n",
       "sulphates               0.51000    0.60000    2.00000  \n",
       "alcohol                10.30000   11.30000   14.90000  \n",
       "type                    1.00000    1.00000    1.00000  "
      ]
     },
     "execution_count": 30,
     "metadata": {},
     "output_type": "execute_result"
    }
   ],
   "source": [
    "df.describe().transpose()"
   ]
  },
  {
   "cell_type": "markdown",
   "id": "addb76d2",
   "metadata": {},
   "source": [
    "## Exploritory Data Analysis"
   ]
  },
  {
   "cell_type": "code",
   "execution_count": 4,
   "id": "727cfa55",
   "metadata": {},
   "outputs": [
    {
     "data": {
      "text/plain": [
       "Legit    6251\n",
       "Fraud     246\n",
       "Name: quality, dtype: int64"
      ]
     },
     "execution_count": 4,
     "metadata": {},
     "output_type": "execute_result"
    }
   ],
   "source": [
    "df['quality'].value_counts()"
   ]
  },
  {
   "cell_type": "code",
   "execution_count": 5,
   "id": "449185a2",
   "metadata": {},
   "outputs": [
    {
     "data": {
      "text/plain": [
       "<AxesSubplot:>"
      ]
     },
     "execution_count": 5,
     "metadata": {},
     "output_type": "execute_result"
    },
    {
     "data": {
      "image/png": "[encoded data removed]",
      "text/plain": [
       "<Figure size 600x600 with 2 Axes>"
      ]
     },
     "metadata": {
      "needs_background": "light"
     },
     "output_type": "display_data"
    }
   ],
   "source": [
    "plt.figure(figsize=(3,3),dpi=200)\n",
    "sns.heatmap(df.corr())"
   ]
  },
  {
   "cell_type": "code",
   "execution_count": 6,
   "id": "8bd2f4ea",
   "metadata": {},
   "outputs": [
    {
     "data": {
      "text/html": [
       "<style type=\"text/css\">\n",
       "#T_1dc30_row0_col0, #T_1dc30_row1_col1, #T_1dc30_row2_col2, #T_1dc30_row3_col3, #T_1dc30_row4_col4, #T_1dc30_row5_col5, #T_1dc30_row6_col6, #T_1dc30_row7_col7, #T_1dc30_row8_col8, #T_1dc30_row9_col9, #T_1dc30_row10_col10 {\n",
       "  background-color: #b40426;\n",
       "  color: #f1f1f1;\n",
       "}\n",
       "#T_1dc30_row0_col1 {\n",
       "  background-color: #cedaeb;\n",
       "  color: #000000;\n",
       "}\n",
       "#T_1dc30_row0_col2 {\n",
       "  background-color: #dfdbd9;\n",
       "  color: #000000;\n",
       "}\n",
       "#T_1dc30_row0_col3 {\n",
       "  background-color: #7597f6;\n",
       "  color: #f1f1f1;\n",
       "}\n",
       "#T_1dc30_row0_col4, #T_1dc30_row0_col9, #T_1dc30_row9_col1 {\n",
       "  background-color: #cfdaea;\n",
       "  color: #000000;\n",
       "}\n",
       "#T_1dc30_row0_col5 {\n",
       "  background-color: #4a63d3;\n",
       "  color: #f1f1f1;\n",
       "}\n",
       "#T_1dc30_row0_col6 {\n",
       "  background-color: #4c66d6;\n",
       "  color: #f1f1f1;\n",
       "}\n",
       "#T_1dc30_row0_col7 {\n",
       "  background-color: #f7b497;\n",
       "  color: #000000;\n",
       "}\n",
       "#T_1dc30_row0_col8, #T_1dc30_row8_col0 {\n",
       "  background-color: #4b64d5;\n",
       "  color: #f1f1f1;\n",
       "}\n",
       "#T_1dc30_row0_col10 {\n",
       "  background-color: #afcafc;\n",
       "  color: #000000;\n",
       "}\n",
       "#T_1dc30_row1_col0 {\n",
       "  background-color: #c4d5f3;\n",
       "  color: #000000;\n",
       "}\n",
       "#T_1dc30_row1_col2, #T_1dc30_row1_col5, #T_1dc30_row1_col6, #T_1dc30_row2_col8, #T_1dc30_row6_col0, #T_1dc30_row6_col1, #T_1dc30_row6_col4, #T_1dc30_row6_col9, #T_1dc30_row7_col10, #T_1dc30_row10_col3, #T_1dc30_row10_col7 {\n",
       "  background-color: #3b4cc0;\n",
       "  color: #f1f1f1;\n",
       "}\n",
       "#T_1dc30_row1_col3, #T_1dc30_row3_col4 {\n",
       "  background-color: #5f7fe8;\n",
       "  color: #f1f1f1;\n",
       "}\n",
       "#T_1dc30_row1_col4 {\n",
       "  background-color: #e0dbd8;\n",
       "  color: #000000;\n",
       "}\n",
       "#T_1dc30_row1_col7 {\n",
       "  background-color: #edd2c3;\n",
       "  color: #000000;\n",
       "}\n",
       "#T_1dc30_row1_col8 {\n",
       "  background-color: #cdd9ec;\n",
       "  color: #000000;\n",
       "}\n",
       "#T_1dc30_row1_col9, #T_1dc30_row9_col8 {\n",
       "  background-color: #bed2f6;\n",
       "  color: #000000;\n",
       "}\n",
       "#T_1dc30_row1_col10 {\n",
       "  background-color: #bbd1f8;\n",
       "  color: #000000;\n",
       "}\n",
       "#T_1dc30_row2_col0 {\n",
       "  background-color: #dadce0;\n",
       "  color: #000000;\n",
       "}\n",
       "#T_1dc30_row2_col1 {\n",
       "  background-color: #4257c9;\n",
       "  color: #f1f1f1;\n",
       "}\n",
       "#T_1dc30_row2_col3, #T_1dc30_row5_col2 {\n",
       "  background-color: #b6cefa;\n",
       "  color: #000000;\n",
       "}\n",
       "#T_1dc30_row2_col4, #T_1dc30_row6_col10 {\n",
       "  background-color: #8caffe;\n",
       "  color: #000000;\n",
       "}\n",
       "#T_1dc30_row2_col5 {\n",
       "  background-color: #b2ccfb;\n",
       "  color: #000000;\n",
       "}\n",
       "#T_1dc30_row2_col6 {\n",
       "  background-color: #cad8ef;\n",
       "  color: #000000;\n",
       "}\n",
       "#T_1dc30_row2_col7 {\n",
       "  background-color: #d3dbe7;\n",
       "  color: #000000;\n",
       "}\n",
       "#T_1dc30_row2_col9 {\n",
       "  background-color: #90b2fe;\n",
       "  color: #000000;\n",
       "}\n",
       "#T_1dc30_row2_col10 {\n",
       "  background-color: #c0d4f5;\n",
       "  color: #000000;\n",
       "}\n",
       "#T_1dc30_row3_col0 {\n",
       "  background-color: #6e90f2;\n",
       "  color: #f1f1f1;\n",
       "}\n",
       "#T_1dc30_row3_col1, #T_1dc30_row8_col5 {\n",
       "  background-color: #6b8df0;\n",
       "  color: #f1f1f1;\n",
       "}\n",
       "#T_1dc30_row3_col2 {\n",
       "  background-color: #b9d0f9;\n",
       "  color: #000000;\n",
       "}\n",
       "#T_1dc30_row3_col5 {\n",
       "  background-color: #ead4c8;\n",
       "  color: #000000;\n",
       "}\n",
       "#T_1dc30_row3_col6 {\n",
       "  background-color: #f6bfa6;\n",
       "  color: #000000;\n",
       "}\n",
       "#T_1dc30_row3_col7 {\n",
       "  background-color: #f59f80;\n",
       "  color: #000000;\n",
       "}\n",
       "#T_1dc30_row3_col8 {\n",
       "  background-color: #4961d2;\n",
       "  color: #f1f1f1;\n",
       "}\n",
       "#T_1dc30_row3_col9 {\n",
       "  background-color: #506bda;\n",
       "  color: #f1f1f1;\n",
       "}\n",
       "#T_1dc30_row3_col10 {\n",
       "  background-color: #799cf8;\n",
       "  color: #f1f1f1;\n",
       "}\n",
       "#T_1dc30_row4_col0 {\n",
       "  background-color: #d5dbe5;\n",
       "  color: #000000;\n",
       "}\n",
       "#T_1dc30_row4_col1, #T_1dc30_row5_col3, #T_1dc30_row9_col7 {\n",
       "  background-color: #ebd3c6;\n",
       "  color: #000000;\n",
       "}\n",
       "#T_1dc30_row4_col2 {\n",
       "  background-color: #9fbfff;\n",
       "  color: #000000;\n",
       "}\n",
       "#T_1dc30_row4_col3 {\n",
       "  background-color: #7093f3;\n",
       "  color: #f1f1f1;\n",
       "}\n",
       "#T_1dc30_row4_col5 {\n",
       "  background-color: #5e7de7;\n",
       "  color: #f1f1f1;\n",
       "}\n",
       "#T_1dc30_row4_col6 {\n",
       "  background-color: #5875e1;\n",
       "  color: #f1f1f1;\n",
       "}\n",
       "#T_1dc30_row4_col7 {\n",
       "  background-color: #f4c5ad;\n",
       "  color: #000000;\n",
       "}\n",
       "#T_1dc30_row4_col8 {\n",
       "  background-color: #98b9ff;\n",
       "  color: #000000;\n",
       "}\n",
       "#T_1dc30_row4_col9 {\n",
       "  background-color: #e3d9d3;\n",
       "  color: #000000;\n",
       "}\n",
       "#T_1dc30_row4_col10, #T_1dc30_row7_col8 {\n",
       "  background-color: #8fb1fe;\n",
       "  color: #000000;\n",
       "}\n",
       "#T_1dc30_row5_col0, #T_1dc30_row8_col2 {\n",
       "  background-color: #445acc;\n",
       "  color: #f1f1f1;\n",
       "}\n",
       "#T_1dc30_row5_col1 {\n",
       "  background-color: #485fd1;\n",
       "  color: #f1f1f1;\n",
       "}\n",
       "#T_1dc30_row5_col4 {\n",
       "  background-color: #4e68d8;\n",
       "  color: #f1f1f1;\n",
       "}\n",
       "#T_1dc30_row5_col6 {\n",
       "  background-color: #ed8366;\n",
       "  color: #f1f1f1;\n",
       "}\n",
       "#T_1dc30_row5_col7 {\n",
       "  background-color: #c7d7f0;\n",
       "  color: #000000;\n",
       "}\n",
       "#T_1dc30_row5_col8 {\n",
       "  background-color: #6687ed;\n",
       "  color: #f1f1f1;\n",
       "}\n",
       "#T_1dc30_row5_col9, #T_1dc30_row6_col8, #T_1dc30_row8_col3 {\n",
       "  background-color: #4f69d9;\n",
       "  color: #f1f1f1;\n",
       "}\n",
       "#T_1dc30_row5_col10 {\n",
       "  background-color: #9ebeff;\n",
       "  color: #000000;\n",
       "}\n",
       "#T_1dc30_row6_col2, #T_1dc30_row8_col7 {\n",
       "  background-color: #c5d6f2;\n",
       "  color: #000000;\n",
       "}\n",
       "#T_1dc30_row6_col3 {\n",
       "  background-color: #f5c4ac;\n",
       "  color: #000000;\n",
       "}\n",
       "#T_1dc30_row6_col5 {\n",
       "  background-color: #ee8669;\n",
       "  color: #f1f1f1;\n",
       "}\n",
       "#T_1dc30_row6_col7 {\n",
       "  background-color: #c9d7f0;\n",
       "  color: #000000;\n",
       "}\n",
       "#T_1dc30_row7_col0 {\n",
       "  background-color: #f1cdba;\n",
       "  color: #000000;\n",
       "}\n",
       "#T_1dc30_row7_col1 {\n",
       "  background-color: #d9dce1;\n",
       "  color: #000000;\n",
       "}\n",
       "#T_1dc30_row7_col2 {\n",
       "  background-color: #aec9fc;\n",
       "  color: #000000;\n",
       "}\n",
       "#T_1dc30_row7_col3 {\n",
       "  background-color: #f7b79b;\n",
       "  color: #000000;\n",
       "}\n",
       "#T_1dc30_row7_col4 {\n",
       "  background-color: #dddcdc;\n",
       "  color: #000000;\n",
       "}\n",
       "#T_1dc30_row7_col5 {\n",
       "  background-color: #97b8ff;\n",
       "  color: #000000;\n",
       "}\n",
       "#T_1dc30_row7_col6, #T_1dc30_row9_col2 {\n",
       "  background-color: #a3c2fe;\n",
       "  color: #000000;\n",
       "}\n",
       "#T_1dc30_row7_col9 {\n",
       "  background-color: #c6d6f1;\n",
       "  color: #000000;\n",
       "}\n",
       "#T_1dc30_row8_col1, #T_1dc30_row8_col10 {\n",
       "  background-color: #d7dce3;\n",
       "  color: #000000;\n",
       "}\n",
       "#T_1dc30_row8_col4 {\n",
       "  background-color: #8db0fe;\n",
       "  color: #000000;\n",
       "}\n",
       "#T_1dc30_row8_col6, #T_1dc30_row9_col5 {\n",
       "  background-color: #6180e9;\n",
       "  color: #f1f1f1;\n",
       "}\n",
       "#T_1dc30_row8_col9 {\n",
       "  background-color: #b5cdfa;\n",
       "  color: #000000;\n",
       "}\n",
       "#T_1dc30_row9_col0 {\n",
       "  background-color: #d6dce4;\n",
       "  color: #000000;\n",
       "}\n",
       "#T_1dc30_row9_col3, #T_1dc30_row10_col5 {\n",
       "  background-color: #6282ea;\n",
       "  color: #f1f1f1;\n",
       "}\n",
       "#T_1dc30_row9_col4 {\n",
       "  background-color: #e4d9d2;\n",
       "  color: #000000;\n",
       "}\n",
       "#T_1dc30_row9_col6 {\n",
       "  background-color: #5977e3;\n",
       "  color: #f1f1f1;\n",
       "}\n",
       "#T_1dc30_row9_col10 {\n",
       "  background-color: #c1d4f4;\n",
       "  color: #000000;\n",
       "}\n",
       "#T_1dc30_row10_col0 {\n",
       "  background-color: #7295f4;\n",
       "  color: #f1f1f1;\n",
       "}\n",
       "#T_1dc30_row10_col1, #T_1dc30_row10_col2 {\n",
       "  background-color: #93b5fe;\n",
       "  color: #000000;\n",
       "}\n",
       "#T_1dc30_row10_col4 {\n",
       "  background-color: #3f53c6;\n",
       "  color: #f1f1f1;\n",
       "}\n",
       "#T_1dc30_row10_col6 {\n",
       "  background-color: #5a78e4;\n",
       "  color: #f1f1f1;\n",
       "}\n",
       "#T_1dc30_row10_col8 {\n",
       "  background-color: #abc8fd;\n",
       "  color: #000000;\n",
       "}\n",
       "#T_1dc30_row10_col9 {\n",
       "  background-color: #80a3fa;\n",
       "  color: #f1f1f1;\n",
       "}\n",
       "</style>\n",
       "<table id=\"T_1dc30\">\n",
       "  <thead>\n",
       "    <tr>\n",
       "      <th class=\"blank level0\" >&nbsp;</th>\n",
       "      <th id=\"T_1dc30_level0_col0\" class=\"col_heading level0 col0\" >fixed acidity</th>\n",
       "      <th id=\"T_1dc30_level0_col1\" class=\"col_heading level0 col1\" >volatile acidity</th>\n",
       "      <th id=\"T_1dc30_level0_col2\" class=\"col_heading level0 col2\" >citric acid</th>\n",
       "      <th id=\"T_1dc30_level0_col3\" class=\"col_heading level0 col3\" >residual sugar</th>\n",
       "      <th id=\"T_1dc30_level0_col4\" class=\"col_heading level0 col4\" >chlorides</th>\n",
       "      <th id=\"T_1dc30_level0_col5\" class=\"col_heading level0 col5\" >free sulfur dioxide</th>\n",
       "      <th id=\"T_1dc30_level0_col6\" class=\"col_heading level0 col6\" >total sulfur dioxide</th>\n",
       "      <th id=\"T_1dc30_level0_col7\" class=\"col_heading level0 col7\" >density</th>\n",
       "      <th id=\"T_1dc30_level0_col8\" class=\"col_heading level0 col8\" >pH</th>\n",
       "      <th id=\"T_1dc30_level0_col9\" class=\"col_heading level0 col9\" >sulphates</th>\n",
       "      <th id=\"T_1dc30_level0_col10\" class=\"col_heading level0 col10\" >alcohol</th>\n",
       "    </tr>\n",
       "  </thead>\n",
       "  <tbody>\n",
       "    <tr>\n",
       "      <th id=\"T_1dc30_level0_row0\" class=\"row_heading level0 row0\" >fixed acidity</th>\n",
       "      <td id=\"T_1dc30_row0_col0\" class=\"data row0 col0\" >1.000000</td>\n",
       "      <td id=\"T_1dc30_row0_col1\" class=\"data row0 col1\" >0.219008</td>\n",
       "      <td id=\"T_1dc30_row0_col2\" class=\"data row0 col2\" >0.324436</td>\n",
       "      <td id=\"T_1dc30_row0_col3\" class=\"data row0 col3\" >-0.111981</td>\n",
       "      <td id=\"T_1dc30_row0_col4\" class=\"data row0 col4\" >0.298195</td>\n",
       "      <td id=\"T_1dc30_row0_col5\" class=\"data row0 col5\" >-0.282735</td>\n",
       "      <td id=\"T_1dc30_row0_col6\" class=\"data row0 col6\" >-0.329054</td>\n",
       "      <td id=\"T_1dc30_row0_col7\" class=\"data row0 col7\" >0.458910</td>\n",
       "      <td id=\"T_1dc30_row0_col8\" class=\"data row0 col8\" >-0.252700</td>\n",
       "      <td id=\"T_1dc30_row0_col9\" class=\"data row0 col9\" >0.299568</td>\n",
       "      <td id=\"T_1dc30_row0_col10\" class=\"data row0 col10\" >-0.095452</td>\n",
       "    </tr>\n",
       "    <tr>\n",
       "      <th id=\"T_1dc30_level0_row1\" class=\"row_heading level0 row1\" >volatile acidity</th>\n",
       "      <td id=\"T_1dc30_row1_col0\" class=\"data row1 col0\" >0.219008</td>\n",
       "      <td id=\"T_1dc30_row1_col1\" class=\"data row1 col1\" >1.000000</td>\n",
       "      <td id=\"T_1dc30_row1_col2\" class=\"data row1 col2\" >-0.377981</td>\n",
       "      <td id=\"T_1dc30_row1_col3\" class=\"data row1 col3\" >-0.196011</td>\n",
       "      <td id=\"T_1dc30_row1_col4\" class=\"data row1 col4\" >0.377124</td>\n",
       "      <td id=\"T_1dc30_row1_col5\" class=\"data row1 col5\" >-0.352557</td>\n",
       "      <td id=\"T_1dc30_row1_col6\" class=\"data row1 col6\" >-0.414476</td>\n",
       "      <td id=\"T_1dc30_row1_col7\" class=\"data row1 col7\" >0.271296</td>\n",
       "      <td id=\"T_1dc30_row1_col8\" class=\"data row1 col8\" >0.261454</td>\n",
       "      <td id=\"T_1dc30_row1_col9\" class=\"data row1 col9\" >0.225984</td>\n",
       "      <td id=\"T_1dc30_row1_col10\" class=\"data row1 col10\" >-0.037640</td>\n",
       "    </tr>\n",
       "    <tr>\n",
       "      <th id=\"T_1dc30_level0_row2\" class=\"row_heading level0 row2\" >citric acid</th>\n",
       "      <td id=\"T_1dc30_row2_col0\" class=\"data row2 col0\" >0.324436</td>\n",
       "      <td id=\"T_1dc30_row2_col1\" class=\"data row2 col1\" >-0.377981</td>\n",
       "      <td id=\"T_1dc30_row2_col2\" class=\"data row2 col2\" >1.000000</td>\n",
       "      <td id=\"T_1dc30_row2_col3\" class=\"data row2 col3\" >0.142451</td>\n",
       "      <td id=\"T_1dc30_row2_col4\" class=\"data row2 col4\" >0.038998</td>\n",
       "      <td id=\"T_1dc30_row2_col5\" class=\"data row2 col5\" >0.133126</td>\n",
       "      <td id=\"T_1dc30_row2_col6\" class=\"data row2 col6\" >0.195242</td>\n",
       "      <td id=\"T_1dc30_row2_col7\" class=\"data row2 col7\" >0.096154</td>\n",
       "      <td id=\"T_1dc30_row2_col8\" class=\"data row2 col8\" >-0.329808</td>\n",
       "      <td id=\"T_1dc30_row2_col9\" class=\"data row2 col9\" >0.056197</td>\n",
       "      <td id=\"T_1dc30_row2_col10\" class=\"data row2 col10\" >-0.010493</td>\n",
       "    </tr>\n",
       "    <tr>\n",
       "      <th id=\"T_1dc30_level0_row3\" class=\"row_heading level0 row3\" >residual sugar</th>\n",
       "      <td id=\"T_1dc30_row3_col0\" class=\"data row3 col0\" >-0.111981</td>\n",
       "      <td id=\"T_1dc30_row3_col1\" class=\"data row3 col1\" >-0.196011</td>\n",
       "      <td id=\"T_1dc30_row3_col2\" class=\"data row3 col2\" >0.142451</td>\n",
       "      <td id=\"T_1dc30_row3_col3\" class=\"data row3 col3\" >1.000000</td>\n",
       "      <td id=\"T_1dc30_row3_col4\" class=\"data row3 col4\" >-0.128940</td>\n",
       "      <td id=\"T_1dc30_row3_col5\" class=\"data row3 col5\" >0.402871</td>\n",
       "      <td id=\"T_1dc30_row3_col6\" class=\"data row3 col6\" >0.495482</td>\n",
       "      <td id=\"T_1dc30_row3_col7\" class=\"data row3 col7\" >0.552517</td>\n",
       "      <td id=\"T_1dc30_row3_col8\" class=\"data row3 col8\" >-0.267320</td>\n",
       "      <td id=\"T_1dc30_row3_col9\" class=\"data row3 col9\" >-0.185927</td>\n",
       "      <td id=\"T_1dc30_row3_col10\" class=\"data row3 col10\" >-0.359415</td>\n",
       "    </tr>\n",
       "    <tr>\n",
       "      <th id=\"T_1dc30_level0_row4\" class=\"row_heading level0 row4\" >chlorides</th>\n",
       "      <td id=\"T_1dc30_row4_col0\" class=\"data row4 col0\" >0.298195</td>\n",
       "      <td id=\"T_1dc30_row4_col1\" class=\"data row4 col1\" >0.377124</td>\n",
       "      <td id=\"T_1dc30_row4_col2\" class=\"data row4 col2\" >0.038998</td>\n",
       "      <td id=\"T_1dc30_row4_col3\" class=\"data row4 col3\" >-0.128940</td>\n",
       "      <td id=\"T_1dc30_row4_col4\" class=\"data row4 col4\" >1.000000</td>\n",
       "      <td id=\"T_1dc30_row4_col5\" class=\"data row4 col5\" >-0.195045</td>\n",
       "      <td id=\"T_1dc30_row4_col6\" class=\"data row4 col6\" >-0.279630</td>\n",
       "      <td id=\"T_1dc30_row4_col7\" class=\"data row4 col7\" >0.362615</td>\n",
       "      <td id=\"T_1dc30_row4_col8\" class=\"data row4 col8\" >0.044708</td>\n",
       "      <td id=\"T_1dc30_row4_col9\" class=\"data row4 col9\" >0.395593</td>\n",
       "      <td id=\"T_1dc30_row4_col10\" class=\"data row4 col10\" >-0.256916</td>\n",
       "    </tr>\n",
       "    <tr>\n",
       "      <th id=\"T_1dc30_level0_row5\" class=\"row_heading level0 row5\" >free sulfur dioxide</th>\n",
       "      <td id=\"T_1dc30_row5_col0\" class=\"data row5 col0\" >-0.282735</td>\n",
       "      <td id=\"T_1dc30_row5_col1\" class=\"data row5 col1\" >-0.352557</td>\n",
       "      <td id=\"T_1dc30_row5_col2\" class=\"data row5 col2\" >0.133126</td>\n",
       "      <td id=\"T_1dc30_row5_col3\" class=\"data row5 col3\" >0.402871</td>\n",
       "      <td id=\"T_1dc30_row5_col4\" class=\"data row5 col4\" >-0.195045</td>\n",
       "      <td id=\"T_1dc30_row5_col5\" class=\"data row5 col5\" >1.000000</td>\n",
       "      <td id=\"T_1dc30_row5_col6\" class=\"data row5 col6\" >0.720934</td>\n",
       "      <td id=\"T_1dc30_row5_col7\" class=\"data row5 col7\" >0.025717</td>\n",
       "      <td id=\"T_1dc30_row5_col8\" class=\"data row5 col8\" >-0.145854</td>\n",
       "      <td id=\"T_1dc30_row5_col9\" class=\"data row5 col9\" >-0.188457</td>\n",
       "      <td id=\"T_1dc30_row5_col10\" class=\"data row5 col10\" >-0.179838</td>\n",
       "    </tr>\n",
       "    <tr>\n",
       "      <th id=\"T_1dc30_level0_row6\" class=\"row_heading level0 row6\" >total sulfur dioxide</th>\n",
       "      <td id=\"T_1dc30_row6_col0\" class=\"data row6 col0\" >-0.329054</td>\n",
       "      <td id=\"T_1dc30_row6_col1\" class=\"data row6 col1\" >-0.414476</td>\n",
       "      <td id=\"T_1dc30_row6_col2\" class=\"data row6 col2\" >0.195242</td>\n",
       "      <td id=\"T_1dc30_row6_col3\" class=\"data row6 col3\" >0.495482</td>\n",
       "      <td id=\"T_1dc30_row6_col4\" class=\"data row6 col4\" >-0.279630</td>\n",
       "      <td id=\"T_1dc30_row6_col5\" class=\"data row6 col5\" >0.720934</td>\n",
       "      <td id=\"T_1dc30_row6_col6\" class=\"data row6 col6\" >1.000000</td>\n",
       "      <td id=\"T_1dc30_row6_col7\" class=\"data row6 col7\" >0.032395</td>\n",
       "      <td id=\"T_1dc30_row6_col8\" class=\"data row6 col8\" >-0.238413</td>\n",
       "      <td id=\"T_1dc30_row6_col9\" class=\"data row6 col9\" >-0.275727</td>\n",
       "      <td id=\"T_1dc30_row6_col10\" class=\"data row6 col10\" >-0.265740</td>\n",
       "    </tr>\n",
       "    <tr>\n",
       "      <th id=\"T_1dc30_level0_row7\" class=\"row_heading level0 row7\" >density</th>\n",
       "      <td id=\"T_1dc30_row7_col0\" class=\"data row7 col0\" >0.458910</td>\n",
       "      <td id=\"T_1dc30_row7_col1\" class=\"data row7 col1\" >0.271296</td>\n",
       "      <td id=\"T_1dc30_row7_col2\" class=\"data row7 col2\" >0.096154</td>\n",
       "      <td id=\"T_1dc30_row7_col3\" class=\"data row7 col3\" >0.552517</td>\n",
       "      <td id=\"T_1dc30_row7_col4\" class=\"data row7 col4\" >0.362615</td>\n",
       "      <td id=\"T_1dc30_row7_col5\" class=\"data row7 col5\" >0.025717</td>\n",
       "      <td id=\"T_1dc30_row7_col6\" class=\"data row7 col6\" >0.032395</td>\n",
       "      <td id=\"T_1dc30_row7_col7\" class=\"data row7 col7\" >1.000000</td>\n",
       "      <td id=\"T_1dc30_row7_col8\" class=\"data row7 col8\" >0.011686</td>\n",
       "      <td id=\"T_1dc30_row7_col9\" class=\"data row7 col9\" >0.259478</td>\n",
       "      <td id=\"T_1dc30_row7_col10\" class=\"data row7 col10\" >-0.686745</td>\n",
       "    </tr>\n",
       "    <tr>\n",
       "      <th id=\"T_1dc30_level0_row8\" class=\"row_heading level0 row8\" >pH</th>\n",
       "      <td id=\"T_1dc30_row8_col0\" class=\"data row8 col0\" >-0.252700</td>\n",
       "      <td id=\"T_1dc30_row8_col1\" class=\"data row8 col1\" >0.261454</td>\n",
       "      <td id=\"T_1dc30_row8_col2\" class=\"data row8 col2\" >-0.329808</td>\n",
       "      <td id=\"T_1dc30_row8_col3\" class=\"data row8 col3\" >-0.267320</td>\n",
       "      <td id=\"T_1dc30_row8_col4\" class=\"data row8 col4\" >0.044708</td>\n",
       "      <td id=\"T_1dc30_row8_col5\" class=\"data row8 col5\" >-0.145854</td>\n",
       "      <td id=\"T_1dc30_row8_col6\" class=\"data row8 col6\" >-0.238413</td>\n",
       "      <td id=\"T_1dc30_row8_col7\" class=\"data row8 col7\" >0.011686</td>\n",
       "      <td id=\"T_1dc30_row8_col8\" class=\"data row8 col8\" >1.000000</td>\n",
       "      <td id=\"T_1dc30_row8_col9\" class=\"data row8 col9\" >0.192123</td>\n",
       "      <td id=\"T_1dc30_row8_col10\" class=\"data row8 col10\" >0.121248</td>\n",
       "    </tr>\n",
       "    <tr>\n",
       "      <th id=\"T_1dc30_level0_row9\" class=\"row_heading level0 row9\" >sulphates</th>\n",
       "      <td id=\"T_1dc30_row9_col0\" class=\"data row9 col0\" >0.299568</td>\n",
       "      <td id=\"T_1dc30_row9_col1\" class=\"data row9 col1\" >0.225984</td>\n",
       "      <td id=\"T_1dc30_row9_col2\" class=\"data row9 col2\" >0.056197</td>\n",
       "      <td id=\"T_1dc30_row9_col3\" class=\"data row9 col3\" >-0.185927</td>\n",
       "      <td id=\"T_1dc30_row9_col4\" class=\"data row9 col4\" >0.395593</td>\n",
       "      <td id=\"T_1dc30_row9_col5\" class=\"data row9 col5\" >-0.188457</td>\n",
       "      <td id=\"T_1dc30_row9_col6\" class=\"data row9 col6\" >-0.275727</td>\n",
       "      <td id=\"T_1dc30_row9_col7\" class=\"data row9 col7\" >0.259478</td>\n",
       "      <td id=\"T_1dc30_row9_col8\" class=\"data row9 col8\" >0.192123</td>\n",
       "      <td id=\"T_1dc30_row9_col9\" class=\"data row9 col9\" >1.000000</td>\n",
       "      <td id=\"T_1dc30_row9_col10\" class=\"data row9 col10\" >-0.003029</td>\n",
       "    </tr>\n",
       "    <tr>\n",
       "      <th id=\"T_1dc30_level0_row10\" class=\"row_heading level0 row10\" >alcohol</th>\n",
       "      <td id=\"T_1dc30_row10_col0\" class=\"data row10 col0\" >-0.095452</td>\n",
       "      <td id=\"T_1dc30_row10_col1\" class=\"data row10 col1\" >-0.037640</td>\n",
       "      <td id=\"T_1dc30_row10_col2\" class=\"data row10 col2\" >-0.010493</td>\n",
       "      <td id=\"T_1dc30_row10_col3\" class=\"data row10 col3\" >-0.359415</td>\n",
       "      <td id=\"T_1dc30_row10_col4\" class=\"data row10 col4\" >-0.256916</td>\n",
       "      <td id=\"T_1dc30_row10_col5\" class=\"data row10 col5\" >-0.179838</td>\n",
       "      <td id=\"T_1dc30_row10_col6\" class=\"data row10 col6\" >-0.265740</td>\n",
       "      <td id=\"T_1dc30_row10_col7\" class=\"data row10 col7\" >-0.686745</td>\n",
       "      <td id=\"T_1dc30_row10_col8\" class=\"data row10 col8\" >0.121248</td>\n",
       "      <td id=\"T_1dc30_row10_col9\" class=\"data row10 col9\" >-0.003029</td>\n",
       "      <td id=\"T_1dc30_row10_col10\" class=\"data row10 col10\" >1.000000</td>\n",
       "    </tr>\n",
       "  </tbody>\n",
       "</table>\n"
      ],
      "text/plain": [
       "<pandas.io.formats.style.Styler at 0x26f47285c70>"
      ]
     },
     "execution_count": 6,
     "metadata": {},
     "output_type": "execute_result"
    }
   ],
   "source": [
    "corr = df.corr()\n",
    "corr.style.background_gradient(cmap='coolwarm')"
   ]
  },
  {
   "cell_type": "code",
   "execution_count": 32,
   "id": "5bf99316",
   "metadata": {},
   "outputs": [],
   "source": [
    "data = df.copy()\n",
    "\n",
    "data['quality'] = data['quality'].apply(lambda x : 0 if x=='Legit' else 1)"
   ]
  },
  {
   "cell_type": "code",
   "execution_count": 35,
   "id": "11283aad",
   "metadata": {},
   "outputs": [
    {
     "data": {
      "text/plain": [
       "<AxesSubplot:>"
      ]
     },
     "execution_count": 35,
     "metadata": {},
     "output_type": "execute_result"
    },
    {
     "data": {
      "image/png": "[encoded data removed]",
      "text/plain": [
       "<Figure size 2000x1200 with 1 Axes>"
      ]
     },
     "metadata": {
      "needs_background": "light"
     },
     "output_type": "display_data"
    }
   ],
   "source": [
    "plt.figure(figsize=(10,6),dpi=200)\n",
    "data.corr()['quality'][:-2].sort_values().plot(kind='bar')"
   ]
  },
  {
   "cell_type": "code",
   "execution_count": 7,
   "id": "42b69e53",
   "metadata": {},
   "outputs": [
    {
     "data": {
      "text/plain": [
       "<AxesSubplot:xlabel='type', ylabel='count'>"
      ]
     },
     "execution_count": 7,
     "metadata": {},
     "output_type": "execute_result"
    },
    {
     "data": {
      "image/png": "[encoded data removed]",
      "text/plain": [
       "<Figure size 432x288 with 1 Axes>"
      ]
     },
     "metadata": {
      "needs_background": "light"
     },
     "output_type": "display_data"
    }
   ],
   "source": [
    "sns.countplot(x='type',hue='quality',data=df)"
   ]
  },
  {
   "cell_type": "code",
   "execution_count": 8,
   "id": "a0d72422",
   "metadata": {},
   "outputs": [
    {
     "data": {
      "text/plain": [
       "<seaborn.axisgrid.FacetGrid at 0x26f47090910>"
      ]
     },
     "execution_count": 8,
     "metadata": {},
     "output_type": "execute_result"
    },
    {
     "data": {
      "image/png": "[encoded data removed]",
      "text/plain": [
       "<Figure size 360x360 with 1 Axes>"
      ]
     },
     "metadata": {
      "needs_background": "light"
     },
     "output_type": "display_data"
    }
   ],
   "source": [
    "sns.displot(df, x=\"fixed acidity\",kde=True)"
   ]
  },
  {
   "cell_type": "code",
   "execution_count": 9,
   "id": "f659e74c",
   "metadata": {},
   "outputs": [
    {
     "data": {
      "text/plain": [
       "<seaborn.axisgrid.FacetGrid at 0x26f46cfb370>"
      ]
     },
     "execution_count": 9,
     "metadata": {},
     "output_type": "execute_result"
    },
    {
     "data": {
      "image/png": "[encoded data removed]",
      "text/plain": [
       "<Figure size 360x360 with 1 Axes>"
      ]
     },
     "metadata": {
      "needs_background": "light"
     },
     "output_type": "display_data"
    }
   ],
   "source": [
    "sns.displot(df, x=\"volatile acidity\",kde=True)"
   ]
  },
  {
   "cell_type": "code",
   "execution_count": 10,
   "id": "414af882",
   "metadata": {
    "scrolled": true
   },
   "outputs": [
    {
     "data": {
      "text/plain": [
       "<seaborn.axisgrid.FacetGrid at 0x26f471d2ca0>"
      ]
     },
     "execution_count": 10,
     "metadata": {},
     "output_type": "execute_result"
    },
    {
     "data": {
      "image/png": "[encoded data removed]",
      "text/plain": [
       "<Figure size 360x360 with 1 Axes>"
      ]
     },
     "metadata": {
      "needs_background": "light"
     },
     "output_type": "display_data"
    }
   ],
   "source": [
    "sns.displot(df, x=\"pH\",kde=True)"
   ]
  },
  {
   "cell_type": "code",
   "execution_count": 36,
   "id": "14a84646",
   "metadata": {},
   "outputs": [
    {
     "data": {
      "image/png": "[encoded data removed]",
      "text/plain": [
       "<Figure size 720x432 with 1 Axes>"
      ]
     },
     "metadata": {},
     "output_type": "display_data"
    }
   ],
   "source": [
    "class_values = data['quality'].value_counts(normalize=True) * 100\n",
    "labels = ['Legit','Fraud']\n",
    "\n",
    "colors = sns.color_palette('pastel')[0:2]\n",
    "\n",
    "\n",
    "fig1, ax1 = plt.subplots(figsize=(10,6))\n",
    "ax1.pie(class_values, labels=labels, autopct='%1.1f%%',\n",
    "        shadow=True, startangle=90,colors = colors)\n",
    "ax1.axis('equal')\n",
    "plt.title('Distribution of Wines(%)\\n', fontsize=20)\n",
    "plt.tight_layout()\n",
    "plt.show()"
   ]
  },
  {
   "cell_type": "markdown",
   "id": "60a1b94a",
   "metadata": {},
   "source": [
    "## Data Preprocessing"
   ]
  },
  {
   "cell_type": "code",
   "execution_count": 11,
   "id": "b0bd43bd",
   "metadata": {},
   "outputs": [],
   "source": [
    "df['type'] = pd.get_dummies(df['type'],drop_first=True)"
   ]
  },
  {
   "cell_type": "code",
   "execution_count": 12,
   "id": "7c400982",
   "metadata": {},
   "outputs": [],
   "source": [
    "X = df.drop('quality',axis=1)\n",
    "y = df['quality']"
   ]
  },
  {
   "cell_type": "code",
   "execution_count": 13,
   "id": "171a8f10",
   "metadata": {},
   "outputs": [],
   "source": [
    "from imblearn.under_sampling import NearMiss\n",
    "\n",
    "undersample = NearMiss(version=1, n_neighbors=3)\n",
    "\n",
    "X, y = undersample.fit_resample(X, y)"
   ]
  },
  {
   "cell_type": "code",
   "execution_count": 14,
   "id": "b48ff3e4",
   "metadata": {},
   "outputs": [
    {
     "data": {
      "text/plain": [
       "<AxesSubplot:xlabel='quality', ylabel='count'>"
      ]
     },
     "execution_count": 14,
     "metadata": {},
     "output_type": "execute_result"
    },
    {
     "data": {
      "image/png": "[encoded data removed]",
      "text/plain": [
       "<Figure size 432x288 with 1 Axes>"
      ]
     },
     "metadata": {
      "needs_background": "light"
     },
     "output_type": "display_data"
    }
   ],
   "source": [
    "sns.countplot(x=y)"
   ]
  },
  {
   "cell_type": "markdown",
   "id": "26914133",
   "metadata": {},
   "source": [
    "### Train Test Split and Data Scaling"
   ]
  },
  {
   "cell_type": "code",
   "execution_count": 15,
   "id": "81eb9a2f",
   "metadata": {},
   "outputs": [],
   "source": [
    "from sklearn.model_selection import train_test_split"
   ]
  },
  {
   "cell_type": "code",
   "execution_count": 16,
   "id": "9e9a3b34",
   "metadata": {},
   "outputs": [],
   "source": [
    "#train-test split\n",
    "X_train, X_test, y_train, y_test = train_test_split(X, y, test_size=0.2, random_state=101)"
   ]
  },
  {
   "cell_type": "code",
   "execution_count": 17,
   "id": "1a71d7c5",
   "metadata": {},
   "outputs": [],
   "source": [
    "from sklearn.preprocessing import StandardScaler"
   ]
  },
  {
   "cell_type": "code",
   "execution_count": 18,
   "id": "150fb53f",
   "metadata": {},
   "outputs": [],
   "source": [
    "#scaling data\n",
    "scaler = StandardScaler()\n",
    "\n",
    "scaled_X_train = scaler.fit_transform(X_train)\n",
    "scaled_X_test = scaler.transform(X_test)"
   ]
  },
  {
   "cell_type": "markdown",
   "id": "b46fff77",
   "metadata": {},
   "source": [
    "## Modeling"
   ]
  },
  {
   "cell_type": "markdown",
   "id": "0b0dd855",
   "metadata": {},
   "source": [
    "### Support Vector Machines with Grid Search"
   ]
  },
  {
   "cell_type": "code",
   "execution_count": 19,
   "id": "36e3df7e",
   "metadata": {},
   "outputs": [],
   "source": [
    "from sklearn.svm import SVC"
   ]
  },
  {
   "cell_type": "code",
   "execution_count": 20,
   "id": "bfde2f32",
   "metadata": {},
   "outputs": [],
   "source": [
    "svc = SVC(class_weight='balanced')"
   ]
  },
  {
   "cell_type": "code",
   "execution_count": 21,
   "id": "6c4a627a",
   "metadata": {},
   "outputs": [],
   "source": [
    "from sklearn.model_selection import GridSearchCV"
   ]
  },
  {
   "cell_type": "code",
   "execution_count": 22,
   "id": "67d97662",
   "metadata": {},
   "outputs": [],
   "source": [
    "param_grid = {'C':[0.1,1,100,1000],'kernel':['rbf','poly','sigmoid','linear'],'degree':[1,2,3,4,5,6],'gamma': [1, 0.1, 0.01, 0.001, 0.0001]}\n",
    "grid = GridSearchCV(svc,param_grid)"
   ]
  },
  {
   "cell_type": "code",
   "execution_count": 23,
   "id": "f4066b42",
   "metadata": {},
   "outputs": [
    {
     "data": {
      "text/plain": [
       "GridSearchCV(estimator=SVC(class_weight='balanced'),\n",
       "             param_grid={'C': [0.1, 1, 100, 1000], 'degree': [1, 2, 3, 4, 5, 6],\n",
       "                         'gamma': [1, 0.1, 0.01, 0.001, 0.0001],\n",
       "                         'kernel': ['rbf', 'poly', 'sigmoid', 'linear']})"
      ]
     },
     "execution_count": 23,
     "metadata": {},
     "output_type": "execute_result"
    }
   ],
   "source": [
    "grid.fit(scaled_X_train,y_train)"
   ]
  },
  {
   "cell_type": "code",
   "execution_count": 24,
   "id": "72e41236",
   "metadata": {},
   "outputs": [
    {
     "data": {
      "text/plain": [
       "{'C': 1000, 'degree': 1, 'gamma': 0.01, 'kernel': 'rbf'}"
      ]
     },
     "execution_count": 24,
     "metadata": {},
     "output_type": "execute_result"
    }
   ],
   "source": [
    "grid.best_params_"
   ]
  },
  {
   "cell_type": "markdown",
   "id": "baabb790",
   "metadata": {},
   "source": [
    "### Performance of the Support Vector Model"
   ]
  },
  {
   "cell_type": "code",
   "execution_count": 25,
   "id": "7586be70",
   "metadata": {},
   "outputs": [],
   "source": [
    "from sklearn.metrics import confusion_matrix,classification_report"
   ]
  },
  {
   "cell_type": "code",
   "execution_count": 55,
   "id": "26b0eeaa",
   "metadata": {},
   "outputs": [],
   "source": [
    "svc_pred = grid.predict(scaled_X_test)\n",
    "cfmtrx = confusion_matrix(y_test,svc_pred)"
   ]
  },
  {
   "cell_type": "code",
   "execution_count": 56,
   "id": "12e5cf62",
   "metadata": {},
   "outputs": [
    {
     "data": {
      "image/png": "[encoded data removed]",
      "text/plain": [
       "<Figure size 432x288 with 2 Axes>"
      ]
     },
     "metadata": {
      "needs_background": "light"
     },
     "output_type": "display_data"
    }
   ],
   "source": [
    "ax = sns.heatmap(cfmtrx, annot=True, cmap='Blues',fmt='g')\n",
    "\n",
    "ax.set_title('Confusion Matrix\\n\\n');\n",
    "ax.set_xlabel('\\nPredicted Values')\n",
    "ax.set_ylabel('Actual Values ');\n",
    "\n",
    "ax.xaxis.set_ticklabels(['Legit','Fraud'])\n",
    "ax.yaxis.set_ticklabels(['Legit','Fraud'])\n",
    "\n",
    "plt.show()"
   ]
  },
  {
   "cell_type": "code",
   "execution_count": 57,
   "id": "a8e49dcb",
   "metadata": {},
   "outputs": [
    {
     "name": "stdout",
     "output_type": "stream",
     "text": [
      "              precision    recall  f1-score   support\n",
      "\n",
      "       Fraud       0.90      0.79      0.84        48\n",
      "       Legit       0.82      0.92      0.87        51\n",
      "\n",
      "    accuracy                           0.86        99\n",
      "   macro avg       0.86      0.86      0.86        99\n",
      "weighted avg       0.86      0.86      0.86        99\n",
      "\n"
     ]
    }
   ],
   "source": [
    "print(classification_report(y_test,svc_pred))"
   ]
  },
  {
   "cell_type": "markdown",
   "id": "bb4c665f",
   "metadata": {},
   "source": [
    "### Gradient Boosting with Grid Search"
   ]
  },
  {
   "cell_type": "code",
   "execution_count": 39,
   "id": "d1236e5f",
   "metadata": {},
   "outputs": [],
   "source": [
    "from sklearn.ensemble import GradientBoostingClassifier"
   ]
  },
  {
   "cell_type": "code",
   "execution_count": 40,
   "id": "ddf0dadc",
   "metadata": {},
   "outputs": [
    {
     "data": {
      "text/plain": [
       "GridSearchCV(estimator=GradientBoostingClassifier(),\n",
       "             param_grid={'max_depth': [3, 4, 5, 6],\n",
       "                         'n_estimators': [1, 5, 10, 20, 40, 100]})"
      ]
     },
     "execution_count": 40,
     "metadata": {},
     "output_type": "execute_result"
    }
   ],
   "source": [
    "param_grid = {\"n_estimators\":[1,5,10,20,40,100],'max_depth':[3,4,5,6]}\n",
    "\n",
    "gb_model = GradientBoostingClassifier()\n",
    "\n",
    "gb_grid = GridSearchCV(gb_model,param_grid)\n",
    "\n",
    "gb_grid.fit(scaled_X_train,y_train)"
   ]
  },
  {
   "cell_type": "code",
   "execution_count": 41,
   "id": "82597551",
   "metadata": {},
   "outputs": [
    {
     "data": {
      "text/plain": [
       "{'max_depth': 5, 'n_estimators': 100}"
      ]
     },
     "execution_count": 41,
     "metadata": {},
     "output_type": "execute_result"
    }
   ],
   "source": [
    "gb_grid.best_params_"
   ]
  },
  {
   "cell_type": "code",
   "execution_count": 42,
   "id": "68f957d9",
   "metadata": {},
   "outputs": [],
   "source": [
    "gb_predictions = gb_grid.predict(scaled_X_test)"
   ]
  },
  {
   "cell_type": "markdown",
   "id": "d00218de",
   "metadata": {},
   "source": [
    "### Performance of the Gradient Boosting Model"
   ]
  },
  {
   "cell_type": "code",
   "execution_count": 43,
   "id": "23656d1b",
   "metadata": {},
   "outputs": [
    {
     "name": "stdout",
     "output_type": "stream",
     "text": [
      "              precision    recall  f1-score   support\n",
      "\n",
      "       Fraud       0.98      0.92      0.95        48\n",
      "       Legit       0.93      0.98      0.95        51\n",
      "\n",
      "    accuracy                           0.95        99\n",
      "   macro avg       0.95      0.95      0.95        99\n",
      "weighted avg       0.95      0.95      0.95        99\n",
      "\n"
     ]
    }
   ],
   "source": [
    "print(classification_report(y_test,gb_predictions))"
   ]
  },
  {
   "cell_type": "code",
   "execution_count": 58,
   "id": "f0044e6a",
   "metadata": {},
   "outputs": [
    {
     "data": {
      "image/png": "[encoded data removed]",
      "text/plain": [
       "<Figure size 432x288 with 2 Axes>"
      ]
     },
     "metadata": {
      "needs_background": "light"
     },
     "output_type": "display_data"
    }
   ],
   "source": [
    "cfmtrx = confusion_matrix(y_test,gb_predictions)\n",
    "\n",
    "ax = sns.heatmap(cfmtrx, annot=True, cmap='Blues',fmt='g')\n",
    "\n",
    "ax.set_title('Confusion Matrix of the Gradient Boosting Model\\n\\n');\n",
    "ax.set_xlabel('\\nPredicted Values')\n",
    "ax.set_ylabel('Actual Values ');\n",
    "\n",
    "ax.xaxis.set_ticklabels(['Legit','Fraud'])\n",
    "ax.yaxis.set_ticklabels(['Legit','Fraud'])\n",
    "\n",
    "plt.show()"
   ]
  },
  {
   "cell_type": "markdown",
   "id": "1aeaef83",
   "metadata": {},
   "source": [
    "### Random Forest with Grid Search"
   ]
  },
  {
   "cell_type": "code",
   "execution_count": 45,
   "id": "4efcf8b7",
   "metadata": {},
   "outputs": [],
   "source": [
    "from sklearn.ensemble import RandomForestClassifier"
   ]
  },
  {
   "cell_type": "code",
   "execution_count": 46,
   "id": "b3113a5c",
   "metadata": {},
   "outputs": [],
   "source": [
    "rfc = RandomForestClassifier()"
   ]
  },
  {
   "cell_type": "code",
   "execution_count": 47,
   "id": "4ce276de",
   "metadata": {},
   "outputs": [],
   "source": [
    "n_estimators=[64,100,128,200]\n",
    "max_features= [2,3,4]\n",
    "bootstrap = [True,False]\n",
    "oob_score = [True,False]\n",
    "\n",
    "param_grid = {'n_estimators':n_estimators,\n",
    "             'max_features':max_features,\n",
    "             'bootstrap':bootstrap,\n",
    "             'oob_score':oob_score}"
   ]
  },
  {
   "cell_type": "code",
   "execution_count": 48,
   "id": "704d6db0",
   "metadata": {},
   "outputs": [
    {
     "name": "stderr",
     "output_type": "stream",
     "text": [
      "C:\\Users\\burak\\anaconda3\\envs\\mojave\\lib\\site-packages\\sklearn\\model_selection\\_validation.py:372: FitFailedWarning: \n",
      "60 fits failed out of a total of 240.\n",
      "The score on these train-test partitions for these parameters will be set to nan.\n",
      "If these failures are not expected, you can try to debug them by setting error_score='raise'.\n",
      "\n",
      "Below are more details about the failures:\n",
      "--------------------------------------------------------------------------------\n",
      "60 fits failed with the following error:\n",
      "Traceback (most recent call last):\n",
      "  File \"C:\\Users\\burak\\anaconda3\\envs\\mojave\\lib\\site-packages\\sklearn\\model_selection\\_validation.py\", line 680, in _fit_and_score\n",
      "    estimator.fit(X_train, y_train, **fit_params)\n",
      "  File \"C:\\Users\\burak\\anaconda3\\envs\\mojave\\lib\\site-packages\\sklearn\\ensemble\\_forest.py\", line 411, in fit\n",
      "    raise ValueError(\"Out of bag estimation only available if bootstrap=True\")\n",
      "ValueError: Out of bag estimation only available if bootstrap=True\n",
      "\n",
      "  warnings.warn(some_fits_failed_message, FitFailedWarning)\n",
      "C:\\Users\\burak\\anaconda3\\envs\\mojave\\lib\\site-packages\\sklearn\\model_selection\\_search.py:969: UserWarning: One or more of the test scores are non-finite: [0.86767283 0.862642   0.86514119 0.86260954 0.86767283 0.86767283\n",
      " 0.85494969 0.86764038 0.86011035 0.85498215 0.84985394 0.86770529\n",
      " 0.86767283 0.85494969 0.85751379 0.86254463 0.85248296 0.8473223\n",
      " 0.84728984 0.86773775 0.85738397 0.862642   0.85748134 0.8600779\n",
      "        nan 0.85248296        nan 0.86260954        nan 0.86257709\n",
      "        nan 0.85751379        nan 0.8600779         nan 0.85751379\n",
      "        nan 0.85248296        nan 0.86260954        nan 0.8652061\n",
      "        nan 0.85504706        nan 0.86260954        nan 0.85757871]\n",
      "  warnings.warn(\n"
     ]
    },
    {
     "data": {
      "text/plain": [
       "GridSearchCV(estimator=RandomForestClassifier(),\n",
       "             param_grid={'bootstrap': [True, False], 'max_features': [2, 3, 4],\n",
       "                         'n_estimators': [64, 100, 128, 200],\n",
       "                         'oob_score': [True, False]})"
      ]
     },
     "execution_count": 48,
     "metadata": {},
     "output_type": "execute_result"
    }
   ],
   "source": [
    "rfc_grid = GridSearchCV(rfc,param_grid)\n",
    "\n",
    "rfc_grid.fit(scaled_X_train,y_train)"
   ]
  },
  {
   "cell_type": "code",
   "execution_count": 49,
   "id": "23452086",
   "metadata": {},
   "outputs": [
    {
     "data": {
      "text/plain": [
       "{'bootstrap': True, 'max_features': 4, 'n_estimators': 100, 'oob_score': False}"
      ]
     },
     "execution_count": 49,
     "metadata": {},
     "output_type": "execute_result"
    }
   ],
   "source": [
    "rfc_grid.best_params_"
   ]
  },
  {
   "cell_type": "code",
   "execution_count": 50,
   "id": "a8021290",
   "metadata": {},
   "outputs": [],
   "source": [
    "rfc_predictions = rfc_grid.predict(scaled_X_test)"
   ]
  },
  {
   "cell_type": "markdown",
   "id": "ad2d28e2",
   "metadata": {},
   "source": [
    "### Performance of the Random Forest Model"
   ]
  },
  {
   "cell_type": "code",
   "execution_count": 51,
   "id": "94cb21f9",
   "metadata": {},
   "outputs": [
    {
     "name": "stdout",
     "output_type": "stream",
     "text": [
      "              precision    recall  f1-score   support\n",
      "\n",
      "       Fraud       0.98      0.90      0.93        48\n",
      "       Legit       0.91      0.98      0.94        51\n",
      "\n",
      "    accuracy                           0.94        99\n",
      "   macro avg       0.94      0.94      0.94        99\n",
      "weighted avg       0.94      0.94      0.94        99\n",
      "\n"
     ]
    }
   ],
   "source": [
    "print(classification_report(y_test,rfc_predictions))"
   ]
  },
  {
   "cell_type": "code",
   "execution_count": 59,
   "id": "dba22555",
   "metadata": {},
   "outputs": [
    {
     "data": {
      "image/png": "[encoded data removed]",
      "text/plain": [
       "<Figure size 432x288 with 2 Axes>"
      ]
     },
     "metadata": {
      "needs_background": "light"
     },
     "output_type": "display_data"
    }
   ],
   "source": [
    "cfmtrx = confusion_matrix(y_test,rfc_predictions)\n",
    "\n",
    "ax = sns.heatmap(cfmtrx, annot=True, cmap='Blues',fmt='g')\n",
    "\n",
    "ax.set_title('Confusion Matrix of the Random Forest Model\\n\\n');\n",
    "ax.set_xlabel('\\nPredicted Values')\n",
    "ax.set_ylabel('Actual Values ');\n",
    "\n",
    "ax.xaxis.set_ticklabels(['Legit','Fraud'])\n",
    "ax.yaxis.set_ticklabels(['Legit','Fraud'])\n",
    "\n",
    "plt.show()"
   ]
  },
  {
   "cell_type": "code",
   "execution_count": null,
   "id": "483793f7",
   "metadata": {},
   "outputs": [],
   "source": []
  }
 ],
 "metadata": {
  "kernelspec": {
   "display_name": "Python 3 (ipykernel)",
   "language": "python",
   "name": "python3"
  },
  "language_info": {
   "codemirror_mode": {
    "name": "ipython",
    "version": 3
   },
   "file_extension": ".py",
   "mimetype": "text/x-python",
   "name": "python",
   "nbconvert_exporter": "python",
   "pygments_lexer": "ipython3",
   "version": "3.9.7"
  }
 },
 "nbformat": 4,
 "nbformat_minor": 5
}
